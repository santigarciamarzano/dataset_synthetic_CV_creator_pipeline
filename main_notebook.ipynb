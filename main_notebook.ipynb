{
 "cells": [
  {
   "cell_type": "code",
   "execution_count": null,
   "metadata": {},
   "outputs": [],
   "source": [
    "%pip install -r requirements.txt"
   ]
  },
  {
   "cell_type": "code",
   "execution_count": 2,
   "metadata": {},
   "outputs": [
    {
     "name": "stdout",
     "output_type": "stream",
     "text": [
      "^C\n",
      "Note: you may need to restart the kernel to use updated packages.\n"
     ]
    }
   ],
   "source": [
    "%pip uninstall torch torchvision torchaudio"
   ]
  },
  {
   "cell_type": "markdown",
   "metadata": {},
   "source": [
    "## Extracción de Frames de Videos"
   ]
  },
  {
   "cell_type": "markdown",
   "metadata": {},
   "source": [
    "Modificar la ruta de entrada del video del producto requerido y guardar las imagenes en la carpeta de la clase de salida que se prefiera"
   ]
  },
  {
   "cell_type": "code",
   "execution_count": null,
   "metadata": {},
   "outputs": [],
   "source": [
    "from projects.process_videos import process_videos_from_folder\n",
    "\n",
    "video_folder = r'C:\\Users\\Santi\\Documents\\GitHub\\image_generator\\dataset_synthetic_CV_creator_pipeline\\data\\videos'\n",
    "base_output_folder = r'C:\\Users\\Santi\\Documents\\GitHub\\image_generator\\dataset_synthetic_CV_creator_pipeline\\data'\n",
    "num_frames = 10  # número de frames a extraer\n",
    "interval = None  # intervalo entre frames\n",
    "\n",
    "process_videos_from_folder(video_folder, base_output_folder, num_frames, interval)\n"
   ]
  },
  {
   "cell_type": "markdown",
   "metadata": {},
   "source": [
    "## Segmentación de imágenes"
   ]
  },
  {
   "cell_type": "markdown",
   "metadata": {},
   "source": [
    "Se segmentan los productos de los frames extraidos del video y se guardan en diferentes clases en su carpeta correspondiente"
   ]
  },
  {
   "cell_type": "code",
   "execution_count": null,
   "metadata": {},
   "outputs": [],
   "source": [
    "from projects.segment_images import main as segment_images_main\n",
    "import os\n",
    "\n",
    "input_base_folder = '/media/minigo/Disco/modelado3d/santiago/codigos/image_generator/data/images'\n",
    "output_base_folder = '/media/minigo/Disco/modelado3d/santiago/codigos/image_generator/data/segmented_images'\n",
    "\n",
    "for class_folder in os.listdir(input_base_folder):\n",
    "    input_folder = os.path.join(input_base_folder, class_folder)\n",
    "    output_folder = os.path.join(output_base_folder, class_folder)\n",
    "    segment_images_main(input_folder, output_folder)"
   ]
  },
  {
   "cell_type": "markdown",
   "metadata": {},
   "source": [
    "## Realizar crop de imagenes"
   ]
  },
  {
   "cell_type": "code",
   "execution_count": null,
   "metadata": {},
   "outputs": [],
   "source": [
    "\n",
    "from projects.crop_images import add_background_to_images\n",
    "\n",
    "input_base_folder = '/media/minigo/Disco/modelado3d/santiago/codigos/image_generator/data/segmented_images'\n",
    "output_base_folder = '/media/minigo/Disco/modelado3d/santiago/codigos/image_generator/data/cropped_images'\n",
    "\n",
    "add_background_to_images(input_base_folder, output_base_folder)\n",
    "\n"
   ]
  },
  {
   "cell_type": "markdown",
   "metadata": {},
   "source": [
    "## Combinación de imágenes segmentadas con fondos y creación de archivos .txt"
   ]
  },
  {
   "cell_type": "markdown",
   "metadata": {},
   "source": [
    "Las imágenes segmentadas son combinadas con los fondos guardados en la carpeta correspondiente. A su vez, guarda las coordenadas de la imagen segmentada en el fondo para conformar un archivo .txt en formato COCO para la utilizaciòn directa en un modelo de entrenamiento"
   ]
  },
  {
   "cell_type": "code",
   "execution_count": null,
   "metadata": {},
   "outputs": [],
   "source": [
    "from projects.combine_images import combine_images\n",
    "\n",
    "output_folder_segmented = '/media/minigo/Disco/modelado3d/santiago/codigos/image_generator/data/segmented_images'\n",
    "background_folder = '/media/minigo/Disco/modelado3d/santiago/codigos/image_generator/data/backgrounds'\n",
    "output_folder_final = '/media/minigo/Disco/modelado3d/santiago/codigos/image_generator/data/imagen_final'\n",
    "label_folder = '/media/minigo/Disco/modelado3d/santiago/codigos/image_generator/data/labels'\n",
    "\n",
    "combine_images(output_folder_segmented, background_folder, output_folder_final, label_folder)"
   ]
  },
  {
   "cell_type": "markdown",
   "metadata": {},
   "source": [
    "## Verificación de BoundingBox"
   ]
  },
  {
   "cell_type": "markdown",
   "metadata": {},
   "source": [
    "Puede seleccionar la cantidad de imagenes que se quieran evaluar para revisar el correcto etuiquetado de las imagenes"
   ]
  },
  {
   "cell_type": "code",
   "execution_count": null,
   "metadata": {},
   "outputs": [],
   "source": [
    "from projects.verify_bboxes import verify_bounding_boxes\n",
    "\n",
    "output_folder_final = '/media/minigo/Disco/modelado3d/santiago/codigos/image_generator/data/imagen_final'\n",
    "labels_folder = '/media/minigo/Disco/modelado3d/santiago/codigos/image_generator/data/labels'\n",
    "evaluation_folder = '/media/minigo/Disco/modelado3d/santiago/codigos/image_generator/data/evaluated'\n",
    "num_images_to_evaluate = 5\n",
    "\n",
    "verify_bounding_boxes(output_folder_final, labels_folder, evaluation_folder, num_images_to_evaluate)"
   ]
  },
  {
   "cell_type": "markdown",
   "metadata": {},
   "source": [
    "## Creación de Dataset"
   ]
  },
  {
   "cell_type": "markdown",
   "metadata": {},
   "source": [
    "### Formato COCO"
   ]
  },
  {
   "cell_type": "code",
   "execution_count": null,
   "metadata": {},
   "outputs": [],
   "source": [
    "from projects.create_yolo_dataset import create_yolo_dataset\n",
    "\n",
    "output_folder_final = '/media/minigo/Disco/modelado3d/santiago/codigos/image_generator/data/imagen_final'\n",
    "label_folder = '/media/minigo/Disco/modelado3d/santiago/codigos/image_generator/data/labels'\n",
    "dataset_folder = '/media/minigo/Disco/modelado3d/santiago/codigos/image_generator/data/dataset'\n",
    "train_ratio = 0.5\n",
    "\n",
    "create_yolo_dataset(\n",
    "    output_folder_final=output_folder_final,\n",
    "    label_folder=label_folder,\n",
    "    dataset_folder=dataset_folder,\n",
    "    train_ratio=train_ratio\n",
    ")\n"
   ]
  },
  {
   "cell_type": "markdown",
   "metadata": {},
   "source": [
    "### Formato Market1501"
   ]
  },
  {
   "cell_type": "code",
   "execution_count": null,
   "metadata": {},
   "outputs": [],
   "source": [
    "from projects.create_market1501_dataset import create_market1501_dataset\n",
    "\n",
    "\n",
    "cropped_images_folder = '/media/minigo/Disco/modelado3d/santiago/codigos/image_generator/data/cropped_images'\n",
    "dataset_folder = '/media/minigo/Disco/modelado3d/santiago/codigos/image_generator/data/dataset_market1501'\n",
    "\n",
    "# DEfinir el ratio de imagenes para train\n",
    "train_ratio = 0.5\n",
    "\n",
    "create_market1501_dataset(cropped_images_folder, dataset_folder, train_ratio=train_ratio)\n"
   ]
  },
  {
   "cell_type": "code",
   "execution_count": null,
   "metadata": {},
   "outputs": [],
   "source": [
    "from projects.images_processing import listar_imagenes\n",
    "listar_imagenes(r'C:\\Users\\Santi\\Documents\\GitHub\\image_generator\\dataset_synthetic_CV_creator_pipeline\\data')\n"
   ]
  },
  {
   "cell_type": "code",
   "execution_count": 1,
   "metadata": {},
   "outputs": [
    {
     "ename": "OSError",
     "evalue": "[WinError 126] No se puede encontrar el módulo especificado. Error loading \"C:\\Users\\Santi\\AppData\\Local\\Packages\\PythonSoftwareFoundation.Python.3.10_qbz5n2kfra8p0\\LocalCache\\local-packages\\Python310\\site-packages\\torch\\lib\\fbgemm.dll\" or one of its dependencies.",
     "output_type": "error",
     "traceback": [
      "\u001b[1;31m---------------------------------------------------------------------------\u001b[0m",
      "\u001b[1;31mOSError\u001b[0m                                   Traceback (most recent call last)",
      "Cell \u001b[1;32mIn [1], line 1\u001b[0m\n\u001b[1;32m----> 1\u001b[0m \u001b[38;5;28;01mfrom\u001b[39;00m \u001b[38;5;21;01mprojects\u001b[39;00m\u001b[38;5;21;01m.\u001b[39;00m\u001b[38;5;21;01mimages_processing\u001b[39;00m \u001b[38;5;28;01mimport\u001b[39;00m descargar_pesos_y_config\n\u001b[0;32m      2\u001b[0m destino_folder \u001b[38;5;241m=\u001b[39m \u001b[38;5;124mr\u001b[39m\u001b[38;5;124m'\u001b[39m\u001b[38;5;124mC:\u001b[39m\u001b[38;5;124m\\\u001b[39m\u001b[38;5;124mUsers\u001b[39m\u001b[38;5;124m\\\u001b[39m\u001b[38;5;124mSanti\u001b[39m\u001b[38;5;124m\\\u001b[39m\u001b[38;5;124mDocuments\u001b[39m\u001b[38;5;124m\\\u001b[39m\u001b[38;5;124mGitHub\u001b[39m\u001b[38;5;124m\\\u001b[39m\u001b[38;5;124mimage_generator\u001b[39m\u001b[38;5;124m\\\u001b[39m\u001b[38;5;124mdataset_synthetic_CV_creator_pipeline\u001b[39m\u001b[38;5;124m\\\u001b[39m\u001b[38;5;124mdata\u001b[39m\u001b[38;5;124m\\\u001b[39m\u001b[38;5;124mgroundingDINO\u001b[39m\u001b[38;5;124m'\u001b[39m\n\u001b[0;32m      3\u001b[0m descargar_pesos_y_config(destino_folder)\n",
      "File \u001b[1;32mc:\\Users\\Santi\\Documents\\GitHub\\image_generator\\dataset_synthetic_CV_creator_pipeline\\projects\\images_processing.py:2\u001b[0m\n\u001b[0;32m      1\u001b[0m \u001b[38;5;28;01mimport\u001b[39;00m \u001b[38;5;21;01mos\u001b[39;00m\n\u001b[1;32m----> 2\u001b[0m \u001b[38;5;28;01mimport\u001b[39;00m \u001b[38;5;21;01mtorch\u001b[39;00m\n\u001b[0;32m      3\u001b[0m \u001b[38;5;28;01mfrom\u001b[39;00m \u001b[38;5;21;01mGroundingDINO\u001b[39;00m\u001b[38;5;21;01m.\u001b[39;00m\u001b[38;5;21;01mgroundingdino\u001b[39;00m\u001b[38;5;21;01m.\u001b[39;00m\u001b[38;5;21;01mutil\u001b[39;00m\u001b[38;5;21;01m.\u001b[39;00m\u001b[38;5;21;01minference\u001b[39;00m \u001b[38;5;28;01mimport\u001b[39;00m load_model, predict, annotate\n\u001b[0;32m      4\u001b[0m \u001b[38;5;28;01mimport\u001b[39;00m \u001b[38;5;21;01mGroundingDINO\u001b[39;00m\u001b[38;5;21;01m.\u001b[39;00m\u001b[38;5;21;01mgroundingdino\u001b[39;00m\u001b[38;5;21;01m.\u001b[39;00m\u001b[38;5;21;01mdatasets\u001b[39;00m\u001b[38;5;21;01m.\u001b[39;00m\u001b[38;5;21;01mtransforms\u001b[39;00m \u001b[38;5;28;01mas\u001b[39;00m \u001b[38;5;21;01mT\u001b[39;00m\n",
      "File \u001b[1;32m~\\AppData\\Local\\Packages\\PythonSoftwareFoundation.Python.3.10_qbz5n2kfra8p0\\LocalCache\\local-packages\\Python310\\site-packages\\torch\\__init__.py:148\u001b[0m\n\u001b[0;32m    146\u001b[0m                 err \u001b[38;5;241m=\u001b[39m ctypes\u001b[38;5;241m.\u001b[39mWinError(ctypes\u001b[38;5;241m.\u001b[39mget_last_error())\n\u001b[0;32m    147\u001b[0m                 err\u001b[38;5;241m.\u001b[39mstrerror \u001b[38;5;241m+\u001b[39m\u001b[38;5;241m=\u001b[39m \u001b[38;5;124mf\u001b[39m\u001b[38;5;124m'\u001b[39m\u001b[38;5;124m Error loading \u001b[39m\u001b[38;5;124m\"\u001b[39m\u001b[38;5;132;01m{\u001b[39;00mdll\u001b[38;5;132;01m}\u001b[39;00m\u001b[38;5;124m\"\u001b[39m\u001b[38;5;124m or one of its dependencies.\u001b[39m\u001b[38;5;124m'\u001b[39m\n\u001b[1;32m--> 148\u001b[0m                 \u001b[38;5;28;01mraise\u001b[39;00m err\n\u001b[0;32m    150\u001b[0m     kernel32\u001b[38;5;241m.\u001b[39mSetErrorMode(prev_error_mode)\n\u001b[0;32m    153\u001b[0m \u001b[38;5;28;01mdef\u001b[39;00m \u001b[38;5;21m_preload_cuda_deps\u001b[39m(lib_folder, lib_name):\n",
      "\u001b[1;31mOSError\u001b[0m: [WinError 126] No se puede encontrar el módulo especificado. Error loading \"C:\\Users\\Santi\\AppData\\Local\\Packages\\PythonSoftwareFoundation.Python.3.10_qbz5n2kfra8p0\\LocalCache\\local-packages\\Python310\\site-packages\\torch\\lib\\fbgemm.dll\" or one of its dependencies."
     ]
    }
   ],
   "source": [
    "from projects.images_processing import descargar_pesos_y_config\n",
    "destino_folder = r'C:\\Users\\Santi\\Documents\\GitHub\\image_generator\\dataset_synthetic_CV_creator_pipeline\\data\\groundingDINO'\n",
    "descargar_pesos_y_config(destino_folder)"
   ]
  }
 ],
 "metadata": {
  "kernelspec": {
   "display_name": "python3.10",
   "language": "python",
   "name": "python3"
  },
  "language_info": {
   "codemirror_mode": {
    "name": "ipython",
    "version": 3
   },
   "file_extension": ".py",
   "mimetype": "text/x-python",
   "name": "python",
   "nbconvert_exporter": "python",
   "pygments_lexer": "ipython3",
   "version": "3.10.11"
  }
 },
 "nbformat": 4,
 "nbformat_minor": 2
}
